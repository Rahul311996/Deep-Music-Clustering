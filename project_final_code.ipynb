{
 "cells": [
  {
   "cell_type": "code",
   "execution_count": 17,
   "metadata": {},
   "outputs": [
    {
     "data": {
      "text/html": [
       "<script type=\"text/javascript\">window.PlotlyConfig = {MathJaxConfig: 'local'};</script><script type=\"text/javascript\">if (window.MathJax) {MathJax.Hub.Config({SVG: {font: \"STIX-Web\"}});}</script><script>requirejs.config({paths: { 'plotly': ['https://cdn.plot.ly/plotly-latest.min']},});if(!window._Plotly) {require(['plotly'],function(plotly) {window._Plotly=plotly;});}</script>"
      ],
      "text/vnd.plotly.v1+html": [
       "<script type=\"text/javascript\">window.PlotlyConfig = {MathJaxConfig: 'local'};</script><script type=\"text/javascript\">if (window.MathJax) {MathJax.Hub.Config({SVG: {font: \"STIX-Web\"}});}</script><script>requirejs.config({paths: { 'plotly': ['https://cdn.plot.ly/plotly-latest.min']},});if(!window._Plotly) {require(['plotly'],function(plotly) {window._Plotly=plotly;});}</script>"
      ]
     },
     "metadata": {},
     "output_type": "display_data"
    }
   ],
   "source": [
    "from __future__ import print_function\n",
    "import librosa\n",
    "import matplotlib.pyplot as plt\n",
    "import numpy as np\n",
    "import librosa.display\n",
    "import random\n",
    "from numpy import linalg as LA\n",
    "import time\n",
    "import seaborn as sns;sns.set()\n",
    "from sklearn.metrics import confusion_matrix\n",
    "from sklearn.preprocessing import StandardScaler\n",
    "from sklearn.cluster import KMeans\n",
    "from mpl_toolkits.mplot3d import Axes3D\n",
    "from sklearn.decomposition import PCA\n",
    "from sklearn.cluster import DBSCAN\n",
    "from sklearn.cluster import SpectralClustering\n",
    "import plotly\n",
    "from plotly import offline as py\n",
    "import plotly.graph_objs as go\n",
    "plotly.offline.init_notebook_mode(connected=True)\n",
    "from statistics import mode\n",
    "from collections import Counter\n",
    "from sklearn.metrics import accuracy_score\n",
    "from sklearn.metrics import precision_score\n",
    "from sklearn.kernel_approximation import RBFSampler\n",
    "from sklearn.linear_model import SGDClassifier\n",
    "from sklearn.neighbors import KNeighborsClassifier\n",
    "from sklearn.ensemble import BaggingClassifier\n",
    "import pickle\n",
    "import pandas as pd\n",
    "from sklearn.manifold import TSNE\n",
    "from sklearn import mixture"
   ]
  },
  {
   "cell_type": "code",
   "execution_count": 50,
   "metadata": {},
   "outputs": [],
   "source": [
    "def data_gen_from_mfcc():\n",
    "    hop_length = 512\n",
    "    data_3d = np.zeros((1000,20,1077))\n",
    "    genres = ['blues','classical','country','disco','hiphop','jazz','metal','pop','reggae','rock']\n",
    "    j=0\n",
    "    for genre in genres:\n",
    "        for i in range(10):\n",
    "            filename = './genres/%s/%s.0000%d.au'%(genre,genre,i)\n",
    "            y, sr = librosa.load(filename,duration=25)\n",
    "            mfcc = librosa.feature.mfcc(y=y, sr=sr, hop_length=hop_length)\n",
    "            data_3d[j,:,:] = mfcc\n",
    "            j= j+1\n",
    "\n",
    "        for i in range(10,100):\n",
    "            filename = './genres/%s/%s.000%d.au'%(genre,genre,i)\n",
    "            y, sr = librosa.load(filename,duration=25)\n",
    "            mfcc = librosa.feature.mfcc(y=y, sr=sr, hop_length=hop_length)\n",
    "            data_3d[j,:,:] = mfcc\n",
    "            j= j+1\n",
    "    data_flattened = data_3d.reshape(1000,-1)\n",
    "    return data_3d,data_flattened\n",
    "\n",
    "def visualize_data(data):\n",
    "    %matplotlib qt\n",
    "    genres = ['blues','classical','country','disco','hiphop','jazz','metal','pop','reggae','rock']\n",
    "    j=1\n",
    "    f = plt.figure(figsize=(15,15))\n",
    "    for i in range(10):\n",
    "        plt_n = f.add_subplot(2,5,j)\n",
    "        librosa.display.specshow(librosa.power_to_db(data_3d[i+(j-1)*100,:,:],ref=np.max), x_axis=\"time\",y_axis=\"mel\")\n",
    "        plt.colorbar()\n",
    "        title_f = 'MFCC Spectrum - For: %s'%genres[i]\n",
    "        plt.title(title_f)\n",
    "        j = j+1\n",
    "    plt.tight_layout()\n",
    "    plt.show()\n",
    "\n",
    "def data_split(new_arr):\n",
    "    data_train_new = np.zeros((700,new_arr.shape[1]))\n",
    "    data_test_new = np.zeros((300,new_arr.shape[1]))\n",
    "    k= 0\n",
    "    l = 0\n",
    "    for i in range(10):\n",
    "        for j in range(70):\n",
    "            data_train_new[k] = new_arr[i*100+j]\n",
    "            k= k+1\n",
    "        for m in range(70,100):\n",
    "            data_test_new[l] = new_arr[i*100+m]\n",
    "            l = l+1\n",
    "    return data_train_new,data_test_new\n",
    "\n",
    "def data_split_3d(new_arr):\n",
    "    data_train_new = np.zeros((700,new_arr.shape[1],new_arr.shape[2]))\n",
    "    data_test_new = np.zeros((300,new_arr.shape[1],new_arr.shape[2]))\n",
    "    k= 0\n",
    "    l = 0\n",
    "    for i in range(10):\n",
    "        for j in range(70):\n",
    "            data_train_new[k] = new_arr[i*100+j]\n",
    "            k= k+1\n",
    "        for m in range(70,100):\n",
    "            data_test_new[l] = new_arr[i*100+m]\n",
    "            l = l+1\n",
    "    return data_train_new,data_test_new\n",
    "\n",
    "    \n",
    "def fun_hit_top5(indices,size,size2,n):\n",
    "    hit = np.zeros((n,1))\n",
    "    k = 0\n",
    "    for i in range(n):\n",
    "        for j in range(size):\n",
    "            k = i*size+j;\n",
    "            C = np.where((indices[k,:]<i*size2+size2) & ((indices[k,:]>=i*size2)))\n",
    "            if (len(C[0]) > 0):\n",
    "                hit[i] = hit[i]+ 1;\n",
    "\n",
    "    return hit\n",
    "\n",
    "def fun_hit_top1(indices,size,size2,n):\n",
    "    hit = np.zeros((n,1))\n",
    "    k = 0\n",
    "    for i in range(n):\n",
    "        for j in range(size):\n",
    "            k = i*size+j;\n",
    "            C = np.where((indices[k,0]<i*size2+size2) & ((indices[k,0]>=i*size2)))\n",
    "            if (len(C[0]) > 0):\n",
    "                hit[i] = hit[i]+ 1;\n",
    "\n",
    "    return hit\n",
    "\n",
    "def knn_top_recommendation(data_new,true_centroid,true_centorid_t):\n",
    "    [data_train_new,data_test_new] = data_split(data_new)\n",
    "    neigh = KNeighborsClassifier(n_neighbors=5)\n",
    "    neigh.fit(data_train_new, true_centroid.T)\n",
    "\n",
    "    pred = neigh.predict(data_test_new)\n",
    "    [dist,indices] = neigh.kneighbors(data_test_new,return_distance=True)\n",
    "    hit_5 = fun_hit_top5(indices,30,70,10)\n",
    "    hit_1 = fun_hit_top1(indices,30,70,10)\n",
    "    trct = true_centroid_t.T\n",
    "    prec = precision_score(trct, pred,average=None)\n",
    "    accuracy = accuracy_score(trct, pred)\n",
    "    return pred,accuracy,prec,hit_5,hit_1\n"
   ]
  },
  {
   "cell_type": "code",
   "execution_count": 19,
   "metadata": {},
   "outputs": [],
   "source": [
    "def visualize_data_3D(data_flattened):\n",
    "    pca=PCA(n_components=3)\n",
    "    data_work_pca=pca.fit_transform(data_flattened)\n",
    "\n",
    "    fig = plt.figure(figsize=(15,15))\n",
    "    # ax = fig.add_subplot(1,1,1, projection='3d')\n",
    "    colors = [\"red\", \"green\", \"blue\", \"cyan\",\"magenta\",\"yellow\",\"black\",\"orange\",\"pink\",\"darkgreen\"]\n",
    "    colors = [\"red\", \"green\", \"blue\", \"cyan\",\"magenta\",\"yellow\",\"black\",\"orange\",\"pink\", \"violet\"]\n",
    "    labels = ['label0','label1','label2','label3','label4','label5','label6','label7','label8','label9']\n",
    "\n",
    "    traces_scatter=[]\n",
    "    for j in range(10):\n",
    "        traces_scatter.append(go.Scatter3d(\n",
    "            x=data_work_pca[j*100:j*100+20,0],\n",
    "            y=data_work_pca[j*100:j*100+20,1],\n",
    "            z=data_work_pca[j*100:j*100+20,2],\n",
    "            name=genres[j],\n",
    "            mode='markers',\n",
    "            marker=dict(\n",
    "                size=12,\n",
    "                color=colors[j],                # set color to an array/list of desired values\n",
    "                opacity=0.8\n",
    "            )\n",
    "        )\n",
    "        )\n",
    "    layout = go.Layout(\n",
    "        margin=dict(\n",
    "            l=0,\n",
    "            r=0,\n",
    "            b=0,\n",
    "            t=0\n",
    "        )\n",
    "    )\n",
    "    fig = go.Figure(data=traces_scatter, layout=layout)\n",
    "    py.iplot(fig, filename='3d-scatter-colorscale')\n",
    "\n",
    "\n",
    "    \n",
    "def evaluate_mapping(x_predict,cls,k):\n",
    "    accuracy=0\n",
    "    mapping={}\n",
    "    for i in range(0,k):\n",
    "        true_labels=[]\n",
    "        for (index,labels) in enumerate(x_predict):\n",
    "            if labels==i:\n",
    "                true_labels.append(cls[0][index])\n",
    "        mapping[i]=Counter(true_labels).most_common(1)[0][0]\n",
    "#     print(mapping)\n",
    "    for (index,value) in enumerate(cls[0]):\n",
    "        if mapping[x_predict[index]]==value:\n",
    "            accuracy=accuracy+(1/len(cls))\n",
    "    return accuracy,mapping\n",
    "\n",
    "\n",
    "def tsne_plot(new_arr):\n",
    "    colors = [\"red\", \"green\", \"blue\", \"cyan\",\"magenta\",\"yellow\",\"black\",\"orange\",\"pink\", \"violet\"]\n",
    "    genres = ['blues','classical','country','disco','hiphop','jazz','metal','pop','reggae','rock']\n",
    "    X_embedded = TSNE(n_components=2).fit_transform(new_arr)\n",
    "    fig = plt.figure(figsize=(20,10))\n",
    "    ax = fig.add_subplot(111)\n",
    "    for j in range(10):\n",
    "        ax.scatter(X_embedded[j*100:j*100+100,0],X_embedded[j*100:j*100+100,1],color = colors[j],label=genres[j])\n",
    "    chartBox = ax.get_position()\n",
    "    ax.set_position([chartBox.x0, chartBox.y0, chartBox.width*0.6, chartBox.height])\n",
    "    ax.legend(loc='upper center', bbox_to_anchor=(1.08, 0.8), shadow=True, ncol=1)\n",
    "    plt.show()"
   ]
  },
  {
   "cell_type": "code",
   "execution_count": 104,
   "metadata": {},
   "outputs": [],
   "source": [
    "def cluster_purity(predict_labels):\n",
    "    count = 0\n",
    "    s=0\n",
    "    p = np.zeros((10,10),dtype=int)\n",
    "    for j in range(10):\n",
    "        k=0\n",
    "        for i in predict_labels[j*30:j*30+30]:\n",
    "            p[predict_labels[j*30+k],j] = p[predict_labels[j*30+k],j] +1\n",
    "            k = k+1\n",
    "    cp = ['C1','C2','C3','C4','C5','C6','C7','C8','C9','C10']\n",
    "    df_new = pd.DataFrame(p,columns=genres,index=cp)\n",
    "    df_new\n",
    "    return df_new\n",
    "\n",
    "def bar_graph_data(genres,hit,hit2,hit3):\n",
    "    %matplotlib qt\n",
    "\n",
    "    genre_df = genres+genres+genres\n",
    "    genre_df = np.reshape(genre_df, (30,1))\n",
    "\n",
    "    bt = ['Original']*10\n",
    "    sv = ['AutoEncoder']*10\n",
    "    si = ['Siamese-NN']*10\n",
    "    classifier_df = bt+sv+si\n",
    "    classifier_df = np.reshape(classifier_df,(30,1))\n",
    "\n",
    "    # prec = prec2.tolist()\n",
    "    # prec1 = precision1.tolist()\n",
    "    # prec2 = precision2.tolist()\n",
    "\n",
    "    prec_df = hit.tolist()+hit2.tolist()+ hit3.tolist()\n",
    "    print(len(prec_df))\n",
    "    prec_df = np.reshape(prec_df,(30,1))\n",
    "\n",
    "    df = pd.DataFrame(genre_df)\n",
    "    df1 = pd.DataFrame(classifier_df)\n",
    "    df2 = pd.DataFrame(prec_df)\n",
    "\n",
    "    df['genres'] = df\n",
    "    df['classifier'] = df1\n",
    "    df['Number of Hits'] = df2\n",
    "    # print df\n",
    "\n",
    "    import seaborn as sns\n",
    "    import matplotlib.pyplot as plt\n",
    "\n",
    "    sns.set(style=\"darkgrid\", color_codes=True)\n",
    "\n",
    "    # setting the plot size for all plots\n",
    "    sns.set(rc={'figure.figsize':(11.7,8.27)})\n",
    "\n",
    "    # create a countplot\n",
    "    #columns = ['BoostedTrees','SVM','KNN']\n",
    "    sns.factorplot('genres','Number of Hits','classifier', data=df, kind = \"bar\",palette = \"BuPu_d\",legend=False)\n",
    "    #plt.legend(loc='bottom', bbox_to_anchor=(1.2, 0.8), shadow=True, ncol=1)\n",
    "    plt.legend(loc='best')\n",
    "    plt.show()\n",
    "\n",
    "def recomm_performance(hit):\n",
    "    return np.sum(hit)/300\n"
   ]
  },
  {
   "cell_type": "code",
   "execution_count": 43,
   "metadata": {},
   "outputs": [],
   "source": [
    "#data_3d,data_flattened = data_gen_from_mfcc()\n",
    "#np.save('flattened_data_dataset.npy',data_flattened)\n",
    "#np.save('2D_data_dataset.npy',data_3d)\n",
    "#[data_train_3d,test_3d] = data_split_3d(data_3d)\n",
    "np.save('data_train_3d.npy',test_train_3d)\n",
    "visualize_data(data_3d)\n",
    "colors = [\"red\", \"green\", \"blue\", \"cyan\",\"magenta\",\"yellow\",\"black\",\"orange\",\"pink\", \"violet\"]\n",
    "genres = ['blues','classical','country','disco','hiphop','jazz','metal','pop','reggae','rock']"
   ]
  },
  {
   "cell_type": "code",
   "execution_count": 8,
   "metadata": {},
   "outputs": [],
   "source": [
    "data_3d = np.load('2D_data_dataset.npy',mmap_mode='r')\n",
    "data_flattened_old = np.load('flattened_data_dataset.npy',mmap_mode='r')"
   ]
  },
  {
   "cell_type": "code",
   "execution_count": 26,
   "metadata": {},
   "outputs": [
    {
     "data": {
      "text/plain": [
       "array([[0, 0, 0, 0, 0, 0, 0, 0, 0, 0, 0, 0, 0, 0, 0, 0, 0, 0, 0, 0, 0, 0,\n",
       "        0, 0, 0, 0, 0, 0, 0, 0, 0, 0, 0, 0, 0, 0, 0, 0, 0, 0, 0, 0, 0, 0,\n",
       "        0, 0, 0, 0, 0, 0, 0, 0, 0, 0, 0, 0, 0, 0, 0, 0, 0, 0, 0, 0, 0, 0,\n",
       "        0, 0, 0, 0, 0, 0, 0, 0, 0, 0, 0, 0, 0, 0, 0, 0, 0, 0, 0, 0, 0, 0,\n",
       "        0, 0, 0, 0, 0, 0, 0, 0, 0, 0, 0, 0, 1, 1, 1, 1, 1, 1, 1, 1, 1, 1,\n",
       "        1, 1, 1, 1, 1, 1, 1, 1, 1, 1, 1, 1, 1, 1, 1, 1, 1, 1, 1, 1, 1, 1,\n",
       "        1, 1, 1, 1, 1, 1, 1, 1, 1, 1, 1, 1, 1, 1, 1, 1, 1, 1, 1, 1, 1, 1,\n",
       "        1, 1, 1, 1, 1, 1, 1, 1, 1, 1, 1, 1, 1, 1, 1, 1, 1, 1, 1, 1, 1, 1,\n",
       "        1, 1, 1, 1, 1, 1, 1, 1, 1, 1, 1, 1, 1, 1, 1, 1, 1, 1, 1, 1, 1, 1,\n",
       "        1, 1, 2, 2, 2, 2, 2, 2, 2, 2, 2, 2, 2, 2, 2, 2, 2, 2, 2, 2, 2, 2,\n",
       "        2, 2, 2, 2, 2, 2, 2, 2, 2, 2, 2, 2, 2, 2, 2, 2, 2, 2, 2, 2, 2, 2,\n",
       "        2, 2, 2, 2, 2, 2, 2, 2, 2, 2, 2, 2, 2, 2, 2, 2, 2, 2, 2, 2, 2, 2,\n",
       "        2, 2, 2, 2, 2, 2, 2, 2, 2, 2, 2, 2, 2, 2, 2, 2, 2, 2, 2, 2, 2, 2,\n",
       "        2, 2, 2, 2, 2, 2, 2, 2, 2, 2, 2, 2, 2, 2, 3, 3, 3, 3, 3, 3, 3, 3,\n",
       "        3, 3, 3, 3, 3, 3, 3, 3, 3, 3, 3, 3, 3, 3, 3, 3, 3, 3, 3, 3, 3, 3,\n",
       "        3, 3, 3, 3, 3, 3, 3, 3, 3, 3, 3, 3, 3, 3, 3, 3, 3, 3, 3, 3, 3, 3,\n",
       "        3, 3, 3, 3, 3, 3, 3, 3, 3, 3, 3, 3, 3, 3, 3, 3, 3, 3, 3, 3, 3, 3,\n",
       "        3, 3, 3, 3, 3, 3, 3, 3, 3, 3, 3, 3, 3, 3, 3, 3, 3, 3, 3, 3, 3, 3,\n",
       "        3, 3, 3, 3, 4, 4, 4, 4, 4, 4, 4, 4, 4, 4, 4, 4, 4, 4, 4, 4, 4, 4,\n",
       "        4, 4, 4, 4, 4, 4, 4, 4, 4, 4, 4, 4, 4, 4, 4, 4, 4, 4, 4, 4, 4, 4,\n",
       "        4, 4, 4, 4, 4, 4, 4, 4, 4, 4, 4, 4, 4, 4, 4, 4, 4, 4, 4, 4, 4, 4,\n",
       "        4, 4, 4, 4, 4, 4, 4, 4, 4, 4, 4, 4, 4, 4, 4, 4, 4, 4, 4, 4, 4, 4,\n",
       "        4, 4, 4, 4, 4, 4, 4, 4, 4, 4, 4, 4, 4, 4, 4, 4, 5, 5, 5, 5, 5, 5,\n",
       "        5, 5, 5, 5, 5, 5, 5, 5, 5, 5, 5, 5, 5, 5, 5, 5, 5, 5, 5, 5, 5, 5,\n",
       "        5, 5, 5, 5, 5, 5, 5, 5, 5, 5, 5, 5, 5, 5, 5, 5, 5, 5, 5, 5, 5, 5,\n",
       "        5, 5, 5, 5, 5, 5, 5, 5, 5, 5, 5, 5, 5, 5, 5, 5, 5, 5, 5, 5, 5, 5,\n",
       "        5, 5, 5, 5, 5, 5, 5, 5, 5, 5, 5, 5, 5, 5, 5, 5, 5, 5, 5, 5, 5, 5,\n",
       "        5, 5, 5, 5, 5, 5, 6, 6, 6, 6, 6, 6, 6, 6, 6, 6, 6, 6, 6, 6, 6, 6,\n",
       "        6, 6, 6, 6, 6, 6, 6, 6, 6, 6, 6, 6, 6, 6, 6, 6, 6, 6, 6, 6, 6, 6,\n",
       "        6, 6, 6, 6, 6, 6, 6, 6, 6, 6, 6, 6, 6, 6, 6, 6, 6, 6, 6, 6, 6, 6,\n",
       "        6, 6, 6, 6, 6, 6, 6, 6, 6, 6, 6, 6, 6, 6, 6, 6, 6, 6, 6, 6, 6, 6,\n",
       "        6, 6, 6, 6, 6, 6, 6, 6, 6, 6, 6, 6, 6, 6, 6, 6, 6, 6, 7, 7, 7, 7,\n",
       "        7, 7, 7, 7, 7, 7, 7, 7, 7, 7, 7, 7, 7, 7, 7, 7, 7, 7, 7, 7, 7, 7,\n",
       "        7, 7, 7, 7, 7, 7, 7, 7, 7, 7, 7, 7, 7, 7, 7, 7, 7, 7, 7, 7, 7, 7,\n",
       "        7, 7, 7, 7, 7, 7, 7, 7, 7, 7, 7, 7, 7, 7, 7, 7, 7, 7, 7, 7, 7, 7,\n",
       "        7, 7, 7, 7, 7, 7, 7, 7, 7, 7, 7, 7, 7, 7, 7, 7, 7, 7, 7, 7, 7, 7,\n",
       "        7, 7, 7, 7, 7, 7, 7, 7, 8, 8, 8, 8, 8, 8, 8, 8, 8, 8, 8, 8, 8, 8,\n",
       "        8, 8, 8, 8, 8, 8, 8, 8, 8, 8, 8, 8, 8, 8, 8, 8, 8, 8, 8, 8, 8, 8,\n",
       "        8, 8, 8, 8, 8, 8, 8, 8, 8, 8, 8, 8, 8, 8, 8, 8, 8, 8, 8, 8, 8, 8,\n",
       "        8, 8, 8, 8, 8, 8, 8, 8, 8, 8, 8, 8, 8, 8, 8, 8, 8, 8, 8, 8, 8, 8,\n",
       "        8, 8, 8, 8, 8, 8, 8, 8, 8, 8, 8, 8, 8, 8, 8, 8, 8, 8, 8, 8, 9, 9,\n",
       "        9, 9, 9, 9, 9, 9, 9, 9, 9, 9, 9, 9, 9, 9, 9, 9, 9, 9, 9, 9, 9, 9,\n",
       "        9, 9, 9, 9, 9, 9, 9, 9, 9, 9, 9, 9, 9, 9, 9, 9, 9, 9, 9, 9, 9, 9,\n",
       "        9, 9, 9, 9, 9, 9, 9, 9, 9, 9, 9, 9, 9, 9, 9, 9, 9, 9, 9, 9, 9, 9,\n",
       "        9, 9, 9, 9, 9, 9, 9, 9, 9, 9, 9, 9, 9, 9, 9, 9, 9, 9, 9, 9, 9, 9,\n",
       "        9, 9, 9, 9, 9, 9, 9, 9, 9, 9]])"
      ]
     },
     "execution_count": 26,
     "metadata": {},
     "output_type": "execute_result"
    }
   ],
   "source": [
    "c= np.arange(10).reshape(10,1)\n",
    "d = np.matlib.repmat(c,1,70)\n",
    "true_centroid=d.reshape(-1,700)\n",
    "\n",
    "c= np.arange(10).reshape(10,1)\n",
    "d = np.matlib.repmat(c,1,30)\n",
    "true_centroid_t=d.reshape(-1,300)\n",
    "\n",
    "c= np.arange(10).reshape(10,1)\n",
    "d = np.matlib.repmat(c,1,100)\n",
    "true_centroid_old=d.reshape(-1,1000)"
   ]
  },
  {
   "cell_type": "code",
   "execution_count": 34,
   "metadata": {},
   "outputs": [
    {
     "name": "stderr",
     "output_type": "stream",
     "text": [
      "/Users/somanshu/.local/lib/python3.6/site-packages/ipykernel_launcher.py:80: DataConversionWarning:\n",
      "\n",
      "A column-vector y was passed when a 1d array was expected. Please change the shape of y to (n_samples, ), for example using ravel().\n",
      "\n",
      "/anaconda3/lib/python3.6/site-packages/sklearn/metrics/classification.py:1143: UndefinedMetricWarning:\n",
      "\n",
      "Precision is ill-defined and being set to 0.0 in labels with no predicted samples.\n",
      "\n"
     ]
    }
   ],
   "source": [
    "## For original data with PCA\n",
    "\n",
    "pca=PCA(n_components=512)\n",
    "data_pca=pca.fit_transform(data_flattened)\n",
    "tsne_plot(data_pca)\n",
    "[pred1,accuracy1,prec1,hit5_1,hit1_1]= knn_top_recommendation(data_pca,true_centroid,true_centroid_t)\n",
    "reco5_value = recomm_performance(hit5_1)\n",
    "reco1_value = recomm_performance(hit1_1)"
   ]
  },
  {
   "cell_type": "code",
   "execution_count": 36,
   "metadata": {},
   "outputs": [
    {
     "name": "stderr",
     "output_type": "stream",
     "text": [
      "/Users/somanshu/.local/lib/python3.6/site-packages/ipykernel_launcher.py:80: DataConversionWarning:\n",
      "\n",
      "A column-vector y was passed when a 1d array was expected. Please change the shape of y to (n_samples, ), for example using ravel().\n",
      "\n",
      "/anaconda3/lib/python3.6/site-packages/sklearn/metrics/classification.py:1143: UndefinedMetricWarning:\n",
      "\n",
      "Precision is ill-defined and being set to 0.0 in labels with no predicted samples.\n",
      "\n"
     ]
    }
   ],
   "source": [
    "## For Autoencoder Data\n",
    "\n",
    "with open('values.pkl', 'rb') as f:\n",
    "  mynewlist = pickle.load(f)\n",
    "new_arr = np.array(mynewlist)\n",
    "tsne_plot(new_arr)\n",
    "[pred2,accuracy2,prec2,hit5_2,hit1_2]= knn_top_recommendation(new_arr,true_centroid,true_centroid_t)\n",
    "reco5_value2 = recomm_performance(hit5_2)\n",
    "reco1_value2 = recomm_performance(hit1_2)"
   ]
  },
  {
   "cell_type": "code",
   "execution_count": 72,
   "metadata": {},
   "outputs": [
    {
     "name": "stderr",
     "output_type": "stream",
     "text": [
      "/Users/somanshu/.local/lib/python3.6/site-packages/ipykernel_launcher.py:94: DataConversionWarning:\n",
      "\n",
      "A column-vector y was passed when a 1d array was expected. Please change the shape of y to (n_samples, ), for example using ravel().\n",
      "\n"
     ]
    }
   ],
   "source": [
    "## For Siamese network Encodings\n",
    "new_arr_2_f = np.load('siamese_encodings_finale.npy',mmap_mode='r')\n",
    "new_arr_2 = new_arr_2_f.T\n",
    "tsne_plot(new_arr_2)\n",
    "[pred3,accuracy3,prec3,hit5_3,hit1_3]= knn_top_recommendation(new_arr_2,true_centroid,true_centroid_t)\n",
    "reco5_value3 = recomm_performance(hit5_3)\n",
    "reco1_value3 = recomm_performance(hit1_3)"
   ]
  },
  {
   "cell_type": "code",
   "execution_count": 94,
   "metadata": {},
   "outputs": [
    {
     "name": "stdout",
     "output_type": "stream",
     "text": [
      "0.44333333333333336\n",
      "0.49666666666666665\n",
      "0.5833333333333334\n",
      "\n",
      "\n",
      "0.16234032321290523\n",
      "0.19402098671828705\n",
      "0.2818743669660545\n"
     ]
    }
   ],
   "source": [
    "print(reco5_value)\n",
    "print(reco5_value2)\n",
    "print(reco5_value3)\n",
    "print(\"\\n\")\n",
    "print(np.mean(prec1))\n",
    "print(np.mean(prec2))\n",
    "print(np.mean(prec3))"
   ]
  },
  {
   "cell_type": "code",
   "execution_count": 78,
   "metadata": {},
   "outputs": [],
   "source": [
    "kmeans = KMeans(n_clusters=10).fit(data_pca)\n",
    "kmeans2 = KMeans(n_clusters=10).fit(new_arr)\n",
    "kmeans3 = KMeans(n_clusters=10).fit(new_arr_2)"
   ]
  },
  {
   "cell_type": "code",
   "execution_count": 86,
   "metadata": {},
   "outputs": [],
   "source": [
    "[data_train,data_test] = data_split(data_pca)\n",
    "[data_new_train,data_new_test] = data_split(new_arr)\n",
    "[data_new_2_train,data_new_2_test] = data_split(new_arr_2)\n",
    "\n",
    "pred_test1 = kmeans.predict(data_test)\n",
    "pred_test2 = kmeans2.predict(data_new_test)\n",
    "pred_test3 = kmeans3.predict(data_new_2_test)"
   ]
  },
  {
   "cell_type": "code",
   "execution_count": 89,
   "metadata": {},
   "outputs": [
    {
     "data": {
      "text/plain": [
       "<matplotlib.axes._subplots.AxesSubplot at 0x1375d3dd8>"
      ]
     },
     "execution_count": 89,
     "metadata": {},
     "output_type": "execute_result"
    }
   ],
   "source": [
    "cfm=confusion_matrix(true_centroid_t.T, pred_test1)\n",
    "sns.heatmap(cfm,annot=True)"
   ]
  },
  {
   "cell_type": "code",
   "execution_count": 90,
   "metadata": {},
   "outputs": [
    {
     "data": {
      "text/plain": [
       "<matplotlib.axes._subplots.AxesSubplot at 0x12f3743c8>"
      ]
     },
     "execution_count": 90,
     "metadata": {},
     "output_type": "execute_result"
    }
   ],
   "source": [
    "cfm2=confusion_matrix(true_centroid_t.T, pred_test2)\n",
    "sns.heatmap(cfm2,annot=True)"
   ]
  },
  {
   "cell_type": "code",
   "execution_count": 91,
   "metadata": {},
   "outputs": [
    {
     "data": {
      "text/plain": [
       "<matplotlib.axes._subplots.AxesSubplot at 0x123cfe780>"
      ]
     },
     "execution_count": 91,
     "metadata": {},
     "output_type": "execute_result"
    }
   ],
   "source": [
    "cfm3=confusion_matrix(true_centroid_t.T, pred_test3)\n",
    "sns.heatmap(cfm3,annot=True)"
   ]
  },
  {
   "cell_type": "code",
   "execution_count": 105,
   "metadata": {},
   "outputs": [
    {
     "name": "stdout",
     "output_type": "stream",
     "text": [
      "30\n"
     ]
    }
   ],
   "source": [
    "bar_graph_data(genres,hit5_1,hit5_2,hit5_3)"
   ]
  }
 ],
 "metadata": {
  "kernelspec": {
   "display_name": "Python 3",
   "language": "python",
   "name": "python3"
  },
  "language_info": {
   "codemirror_mode": {
    "name": "ipython",
    "version": 3
   },
   "file_extension": ".py",
   "mimetype": "text/x-python",
   "name": "python",
   "nbconvert_exporter": "python",
   "pygments_lexer": "ipython3",
   "version": "3.6.5"
  }
 },
 "nbformat": 4,
 "nbformat_minor": 2
}
